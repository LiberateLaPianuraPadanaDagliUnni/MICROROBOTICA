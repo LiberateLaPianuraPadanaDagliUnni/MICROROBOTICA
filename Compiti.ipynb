{
 "cells": [
  {
   "cell_type": "markdown",
   "id": "d1ee1ba5-8a7d-468c-9529-a8d2a2008e75",
   "metadata": {},
   "source": [
    "# ES 1"
   ]
  },
  {
   "cell_type": "code",
   "execution_count": 3,
   "id": "4eac02f4-5887-4aef-ab94-8e6caf5a90df",
   "metadata": {},
   "outputs": [
    {
     "data": {
      "text/plain": [
       "[10, 9, 8, 7, 6, 5, 4, 3, 2, 1]"
      ]
     },
     "execution_count": 3,
     "metadata": {},
     "output_type": "execute_result"
    }
   ],
   "source": [
    "array=[1,2,3,4,5,6,7,8,9,10]\n",
    "arrayAlContrario=array[::-1]\n",
    "arrayAlContrario"
   ]
  },
  {
   "cell_type": "markdown",
   "id": "90142974-a07a-4e3f-8ea7-3ddfa7cddd75",
   "metadata": {},
   "source": [
    "# ES 2"
   ]
  },
  {
   "cell_type": "code",
   "execution_count": 8,
   "id": "fe09152a-bb11-4b43-8351-455513c0214f",
   "metadata": {},
   "outputs": [],
   "source": [
    "import numpy as np"
   ]
  },
  {
   "cell_type": "code",
   "execution_count": 9,
   "id": "b1ed1136-8049-4123-a79d-855d55fc2fef",
   "metadata": {},
   "outputs": [],
   "source": [
    "array=[]"
   ]
  },
  {
   "cell_type": "markdown",
   "id": "88bafe53-b018-4fd5-ae9a-49b6a5c04246",
   "metadata": {},
   "source": [
    "# ES 6"
   ]
  },
  {
   "cell_type": "code",
   "execution_count": 2,
   "id": "923a36b1-621e-4448-8ab6-aab721821a98",
   "metadata": {},
   "outputs": [],
   "source": [
    "import numpy as np\n",
    "import matplotlib.pyplot as plt"
   ]
  },
  {
   "cell_type": "code",
   "execution_count": 3,
   "id": "924a438a-4779-4e24-b116-14927820a7a7",
   "metadata": {},
   "outputs": [
    {
     "data": {
      "text/plain": [
       "<matplotlib.image.AxesImage at 0x1dda9889fd0>"
      ]
     },
     "execution_count": 3,
     "metadata": {},
     "output_type": "execute_result"
    },
    {
     "data": {
      "image/png": "[encoded data removed]",
      "text/plain": [
       "<Figure size 640x480 with 1 Axes>"
      ]
     },
     "metadata": {},
     "output_type": "display_data"
    }
   ],
   "source": [
    "matrix_ones=np.ones((8,8))\n",
    "matrix_ones[::2,::2]=0\n",
    "matrix_ones[1::2,1::2]=0\n",
    "matrix_ones\n",
    "plt.imshow(matrix_ones, cmap=\"Greys\")"
   ]
  },
  {
   "cell_type": "markdown",
   "id": "8ddb6c44-6e64-4aa0-bd48-55cf5b371b3c",
   "metadata": {},
   "source": [
    "# ES 7"
   ]
  },
  {
   "cell_type": "code",
   "execution_count": 4,
   "id": "edde89b7-6aa4-4f89-8ba0-155bea773d53",
   "metadata": {},
   "outputs": [
    {
     "data": {
      "text/plain": [
       "<matplotlib.image.AxesImage at 0x1dda9988910>"
      ]
     },
     "execution_count": 4,
     "metadata": {},
     "output_type": "execute_result"
    },
    {
     "data": {
      "image/png": "[encoded data removed]",
      "text/plain": [
       "<Figure size 640x480 with 1 Axes>"
      ]
     },
     "metadata": {},
     "output_type": "display_data"
    }
   ],
   "source": [
    "matrix=np.ones((10,10))\n",
    "layers=5\n",
    "\n",
    "for i in range(layers):\n",
    "    matrix[i:10-i,i:10-i]=i+1\n",
    "plt.imshow(matrix, cmap=\"Greys\")"
   ]
  },
  {
   "cell_type": "code",
   "execution_count": null,
   "id": "2270e047-45c7-4462-872d-590d5ae9d5f2",
   "metadata": {},
   "outputs": [],
   "source": [
    "#crea una matrice 4x5 di numeri standard"
   ]
  },
  {
   "cell_type": "code",
   "execution_count": 15,
   "id": "04b2fb00-5609-4a33-8817-524014515d66",
   "metadata": {},
   "outputs": [],
   "source": [
    "import numpy as np\n",
    "import random"
   ]
  },
  {
   "cell_type": "code",
   "execution_count": 16,
   "id": "2647d96e-0983-4033-941f-d1bf4912e02e",
   "metadata": {},
   "outputs": [
    {
     "data": {
      "text/plain": [
       "array([[0.42281916, 0.90942048, 0.99233026, 0.80532074, 0.78615162],\n",
       "       [0.40754252, 0.69774771, 0.72232728, 0.34526884, 0.28940986],\n",
       "       [0.0899182 , 0.20128662, 0.01174284, 0.89415147, 0.49530566],\n",
       "       [0.16816545, 0.22799552, 0.85328139, 0.67411677, 0.60424483]])"
      ]
     },
     "execution_count": 16,
     "metadata": {},
     "output_type": "execute_result"
    }
   ],
   "source": [
    "matrix=np.random.uniform(0,1,(4,5))\n",
    "matrix"
   ]
  },
  {
   "cell_type": "code",
   "execution_count": 17,
   "id": "050472b7-cb06-4f2a-8120-bd3656e43547",
   "metadata": {},
   "outputs": [
    {
     "data": {
      "text/plain": [
       "array([0.27211133, 0.50911258, 0.64492044, 0.67971446, 0.54377799])"
      ]
     },
     "execution_count": 17,
     "metadata": {},
     "output_type": "execute_result"
    }
   ],
   "source": [
    "mean=np.mean(matrix, axis=0)\n",
    "mean"
   ]
  },
  {
   "cell_type": "code",
   "execution_count": 20,
   "id": "2f2ddedc-be82-427a-b651-34c4136f662d",
   "metadata": {},
   "outputs": [
    {
     "data": {
      "text/plain": [
       "array([0.1458197 , 0.30397913, 0.3778272 , 0.20835389, 0.17989853])"
      ]
     },
     "execution_count": 20,
     "metadata": {},
     "output_type": "execute_result"
    }
   ],
   "source": [
    "std=np.std(matrix, axis=0)\n",
    "std"
   ]
  },
  {
   "cell_type": "code",
   "execution_count": 21,
   "id": "216da0d7-01b0-4626-ab54-269744ab23bd",
   "metadata": {},
   "outputs": [
    {
     "data": {
      "text/plain": [
       "array([[ 1.03352174,  1.31689269,  0.91949394,  0.60285068,  1.34727961],\n",
       "       [ 0.92875781,  0.62055288,  0.20487365, -1.60518055, -1.41395336],\n",
       "       [-1.24944115, -1.01265492, -1.67583914,  1.02919613, -0.26944262],\n",
       "       [-0.71283839, -0.92479066,  0.55147155, -0.02686625,  0.33611637]])"
      ]
     },
     "execution_count": 21,
     "metadata": {},
     "output_type": "execute_result"
    }
   ],
   "source": [
    "(matrix-mean)/std"
   ]
  },
  {
   "cell_type": "code",
   "execution_count": 23,
   "id": "b0aecf4f-9314-4ada-8f62-56569aeb66e6",
   "metadata": {},
   "outputs": [
    {
     "data": {
      "text/plain": [
       "array([[ -3,  -4,   3,  -3,   4,   0],\n",
       "       [  4,  -8,   1,   6,   5,   5],\n",
       "       [ -3,  -8,   6,   0,   8,  -3],\n",
       "       [  0,   3,   0,   3,  10,  -9],\n",
       "       [-10,  -2,  -3, -10,  10,   7],\n",
       "       [  7,   8,  -7,  -8,  -3,   5]], dtype=int32)"
      ]
     },
     "execution_count": 23,
     "metadata": {},
     "output_type": "execute_result"
    }
   ],
   "source": [
    "matrix2=np.random.randint(-10,11,(6,6))\n",
    "matrix2"
   ]
  },
  {
   "cell_type": "code",
   "execution_count": 24,
   "id": "ee2278e4-7405-4b6d-b3f9-80fcbd8f78cd",
   "metadata": {},
   "outputs": [
    {
     "data": {
      "text/plain": [
       "array([[ True,  True, False,  True, False, False],\n",
       "       [False,  True, False, False, False, False],\n",
       "       [ True,  True, False, False, False,  True],\n",
       "       [False, False, False, False, False,  True],\n",
       "       [ True,  True,  True,  True, False, False],\n",
       "       [False, False,  True,  True,  True, False]])"
      ]
     },
     "execution_count": 24,
     "metadata": {},
     "output_type": "execute_result"
    }
   ],
   "source": [
    "negative=matrix2<0\n",
    "negative"
   ]
  },
  {
   "cell_type": "code",
   "execution_count": 26,
   "id": "503701bb-0afe-4847-a48f-d560c4b51d62",
   "metadata": {},
   "outputs": [
    {
     "data": {
      "text/plain": [
       "array([[ 0,  0,  3,  0,  4,  0],\n",
       "       [ 4,  0,  1,  6,  5,  5],\n",
       "       [ 0,  0,  6,  0,  8,  0],\n",
       "       [ 0,  3,  0,  3, 10,  0],\n",
       "       [ 0,  0,  0,  0, 10,  7],\n",
       "       [ 7,  8,  0,  0,  0,  5]], dtype=int32)"
      ]
     },
     "execution_count": 26,
     "metadata": {},
     "output_type": "execute_result"
    }
   ],
   "source": [
    "matrix2[negative]=0\n",
    "matrix2"
   ]
  },
  {
   "cell_type": "code",
   "execution_count": 40,
   "id": "f4d2d976-9a24-46ad-833b-11aaae00c825",
   "metadata": {},
   "outputs": [
    {
     "data": {
      "text/plain": [
       "array([ 7, 21, 14, 16, 17, 20])"
      ]
     },
     "execution_count": 40,
     "metadata": {},
     "output_type": "execute_result"
    }
   ],
   "source": [
    "s=np.sum(matrix2, axis=1)\n",
    "s"
   ]
  },
  {
   "cell_type": "code",
   "execution_count": 41,
   "id": "8bd56728-4943-43c0-8722-f35d68f85989",
   "metadata": {},
   "outputs": [
    {
     "data": {
      "text/plain": [
       "array([False,  True, False,  True,  True,  True])"
      ]
     },
     "execution_count": 41,
     "metadata": {},
     "output_type": "execute_result"
    }
   ],
   "source": [
    "s15=s>15\n",
    "s15"
   ]
  },
  {
   "cell_type": "code",
   "execution_count": 42,
   "id": "e4ef8423-7ab3-4e87-bfc8-62df98dee457",
   "metadata": {},
   "outputs": [
    {
     "data": {
      "text/plain": [
       "array([[ 4,  0,  1,  6,  5,  5],\n",
       "       [ 0,  3,  0,  3, 10,  0],\n",
       "       [ 0,  0,  0,  0, 10,  7],\n",
       "       [ 7,  8,  0,  0,  0,  5]], dtype=int32)"
      ]
     },
     "execution_count": 42,
     "metadata": {},
     "output_type": "execute_result"
    }
   ],
   "source": [
    "matrix2[s15]"
   ]
  },
  {
   "cell_type": "code",
   "execution_count": 43,
   "id": "8608ddd3-56c7-4278-bc62-da5ff1c12030",
   "metadata": {},
   "outputs": [
    {
     "data": {
      "text/plain": [
       "array([11.57084211, 31.23462464, 29.2675453 , 16.30598712, 34.86595747,\n",
       "       27.50562   , 16.59750023, 29.52568206, 33.79384902, 20.69556036,\n",
       "       28.91130094, 18.71063363, 32.07864693, 19.42824681, 29.06320154,\n",
       "       16.96421897,  8.52517153, 31.59522367,  6.66884815, 19.23790895,\n",
       "       -3.7336977 , 32.80097878, 31.04895943, 22.34783631,  1.18134252,\n",
       "       -3.54901469, 23.12651667, 21.52340243, 21.53791808,  9.44807437,\n",
       "       33.95116693,  8.06504625, 27.66941427,  5.68092819, 21.17681983,\n",
       "       14.13011519, 30.31603263, 16.95183323,  7.80872462,  7.16491634,\n",
       "       34.16022903, -2.58535947, 17.3623693 , 21.51833594, 27.93369839,\n",
       "       24.89697976, 28.20372213, 28.09118499,  3.25217394, 15.76654209,\n",
       "       16.9653586 ,  1.77016044, 22.5162464 ,  8.3895582 , 31.18717074,\n",
       "       -2.84772336,  2.70823274, 16.90631327, -1.78299015,  0.06956049,\n",
       "       -3.17610496, -3.29493712, 17.3021874 , 24.56601079, -3.89452039,\n",
       "       18.96027405, 11.27553938,  3.89212538, 32.75554835, -4.4044869 ,\n",
       "       33.72223177, 24.58104302, 10.53525356, 28.2250003 ,  2.87701347,\n",
       "        9.04403134, 25.64512821,  8.38193316, 18.13171789,  5.5183039 ,\n",
       "       -3.3780828 , 10.19234394,  8.74910042, 13.90866378, -0.66739393,\n",
       "       31.08281381, -4.17357744, 23.67683281, 11.191484  , 24.2550331 ,\n",
       "        5.71828829, 18.76969941, -0.58841835, 16.16549176, 28.03994297,\n",
       "       29.25486739, 21.98321784, 19.13112551,  1.10150546, 16.43810541])"
      ]
     },
     "execution_count": 43,
     "metadata": {},
     "output_type": "execute_result"
    }
   ],
   "source": [
    "temperature=np.random.uniform(-5,35,100)\n",
    "temperature"
   ]
  },
  {
   "cell_type": "code",
   "execution_count": 44,
   "id": "e56a01a1-868f-42ba-8277-5ddc89853ab7",
   "metadata": {},
   "outputs": [
    {
     "data": {
      "text/plain": [
       "array([False, False, False,  True, False, False,  True, False, False,\n",
       "        True, False,  True, False,  True, False,  True, False, False,\n",
       "       False,  True, False, False, False,  True, False, False,  True,\n",
       "        True,  True, False, False, False, False, False,  True, False,\n",
       "       False,  True, False, False, False, False,  True,  True, False,\n",
       "        True, False, False, False,  True,  True, False,  True, False,\n",
       "       False, False, False,  True, False, False, False, False,  True,\n",
       "        True, False,  True, False, False, False, False, False,  True,\n",
       "       False, False, False, False, False, False,  True, False, False,\n",
       "       False, False, False, False, False, False,  True, False,  True,\n",
       "       False,  True, False,  True, False, False,  True,  True, False,\n",
       "        True])"
      ]
     },
     "execution_count": 44,
     "metadata": {},
     "output_type": "execute_result"
    }
   ],
   "source": [
    "temp15_25=(temperature>15)&(temperature<25)\n",
    "temp15_25"
   ]
  },
  {
   "cell_type": "code",
   "execution_count": 46,
   "id": "7bd4f628-34a2-426f-ac39-14a2c104c418",
   "metadata": {},
   "outputs": [
    {
     "data": {
      "text/plain": [
       "32"
      ]
     },
     "execution_count": 46,
     "metadata": {},
     "output_type": "execute_result"
    }
   ],
   "source": [
    "np.count_nonzero(temp15_25)"
   ]
  },
  {
   "cell_type": "code",
   "execution_count": 48,
   "id": "5a483746-ee28-4e1c-ae94-14581cb3947a",
   "metadata": {},
   "outputs": [
    {
     "data": {
      "text/plain": [
       "array([11.57084211,  0.        , 29.2675453 , 16.30598712,  0.        ,\n",
       "       27.50562   , 16.59750023, 29.52568206,  0.        , 20.69556036,\n",
       "       28.91130094, 18.71063363,  0.        , 19.42824681, 29.06320154,\n",
       "       16.96421897,  8.52517153,  0.        ,  6.66884815, 19.23790895,\n",
       "        0.        ,  0.        ,  0.        , 22.34783631,  1.18134252,\n",
       "        0.        , 23.12651667, 21.52340243, 21.53791808,  9.44807437,\n",
       "        0.        ,  8.06504625, 27.66941427,  5.68092819, 21.17681983,\n",
       "       14.13011519,  0.        , 16.95183323,  7.80872462,  7.16491634,\n",
       "        0.        ,  0.        , 17.3623693 , 21.51833594, 27.93369839,\n",
       "       24.89697976, 28.20372213, 28.09118499,  3.25217394, 15.76654209,\n",
       "       16.9653586 ,  1.77016044, 22.5162464 ,  8.3895582 ,  0.        ,\n",
       "        0.        ,  2.70823274, 16.90631327,  0.        ,  0.06956049,\n",
       "        0.        ,  0.        , 17.3021874 , 24.56601079,  0.        ,\n",
       "       18.96027405, 11.27553938,  3.89212538,  0.        ,  0.        ,\n",
       "        0.        , 24.58104302, 10.53525356, 28.2250003 ,  2.87701347,\n",
       "        9.04403134, 25.64512821,  8.38193316, 18.13171789,  5.5183039 ,\n",
       "        0.        , 10.19234394,  8.74910042, 13.90866378,  0.        ,\n",
       "        0.        ,  0.        , 23.67683281, 11.191484  , 24.2550331 ,\n",
       "        5.71828829, 18.76969941,  0.        , 16.16549176, 28.03994297,\n",
       "       29.25486739, 21.98321784, 19.13112551,  1.10150546, 16.43810541])"
      ]
     },
     "execution_count": 48,
     "metadata": {},
     "output_type": "execute_result"
    }
   ],
   "source": [
    "min0=temperature<0\n",
    "temperature[min0]=0\n",
    "\n",
    "max0=temperature>30\n",
    "temperature[max0]=30\n",
    "\n",
    "temperature"
   ]
  },
  {
   "cell_type": "code",
   "execution_count": null,
   "id": "0c1d3bd2-5e13-434e-865e-a1ca4c34dfd3",
   "metadata": {},
   "outputs": [],
   "source": []
  },
  {
   "cell_type": "code",
   "execution_count": null,
   "id": "b3da2a9a-7676-4d15-8752-7c2822db7746",
   "metadata": {},
   "outputs": [],
   "source": []
  }
 ],
 "metadata": {
  "kernelspec": {
   "display_name": "Python 3 (ipykernel)",
   "language": "python",
   "name": "python3"
  },
  "language_info": {
   "codemirror_mode": {
    "name": "ipython",
    "version": 3
   },
   "file_extension": ".py",
   "mimetype": "text/x-python",
   "name": "python",
   "nbconvert_exporter": "python",
   "pygments_lexer": "ipython3",
   "version": "3.13.5"
  }
 },
 "nbformat": 4,
 "nbformat_minor": 5
}
