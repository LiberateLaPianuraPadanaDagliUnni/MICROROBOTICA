


2+3


l=[1,67,3]
print(l[1])





a=1



a








import random


length=20

# il metodo join è un metodo delle stringhe; però vuole come parametro una lista di stringhe

string="CIAO".join([chr(random.randint(0,255)) for _ in range(length)])
print(string)


length=20
chars="abcdefghilmnopqrstuvwxyz 0123456789.,;:!?_-"
string="CIAO".join([random.choice(chars) for _ in range(length)])
print(string)





import random


def createWord(char,length):
    word=char
    nextChar=char

    for i in range(length-1):
        nextChar=random.choice(dizionario2[nextChar])
        #print("carattere:",nextChar)
        word+=nextChar
    
    return word


dizionario={}
dizionario2={}

with open("storia.txt","r") as t:
    testo=t.read()


# MAIN

for carattere in testo:
    if carattere not in dizionario:
        dizionario[carattere]=1
    else:
        dizionario[carattere]+=1

for i in range(len(testo)-1):
    chiave=testo[i]
    successivo=testo[i+1]
    if chiave not in dizionario2:
        dizionario2[chiave]=[successivo]
    else:
        dizionario2[chiave].append(successivo)
        
print(dizionario)
print(f"\n{dizionario2}")


#Compito parte 2

carattere=input("\n\nInserisci una lettera: ")
num=int(input("Inserisci la lunghezza del testo: "))


wordComplete=createWord(carattere,num)
print("parola:",wordComplete)






l1,l2=[1,2,3,4],["a","b","c","d"]


for v, i in enumerate(l2):
    print(v,i)


#ciclo for in parallelo su più liste
for v1,v2 in zip(l1,l2):
    print(v1,v2)


import random

lettere="qwertyuiopasdfghjklmnbvcxz"
d={i:" :) ".join(random.choices(lettere, k=10)) for i in range (5)}
d






def findChar(text,char):
    """
    La funzione ritorna True se il carattere è presente in text, False altrimenti
    """
    return char in text

#nome funzione        parametri        return
findChar      =lambda text,char: char in text


findChar("ciaobellocomestai?","r")



findChar("ciaobellocomestai?","e")



d_a={i:findChar(d[i],"a") for i in d}
d_a





somma=lambda a,b: a+b
prodotto=lambda a,b: a*b
operazioni={"+": somma, "*": prodotto}


operazioni


op=input("inserisci + per la somma * per il prodotto ->")
a=float(input("Inserisci il primo numero ->"))
b=float(input("Inserisci il secondo numero ->"))

if op in operazioni:
    #funzione
    print(operazioni[op](a,b))
else:
    print("Operazione non valida!")


l=list(range(10))
l[::-3]


print(ciao)



