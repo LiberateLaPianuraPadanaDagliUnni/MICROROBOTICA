{
 "cells": [
  {
   "cell_type": "markdown",
   "id": "0a47386c-4359-4dde-8053-6f3188ea735b",
   "metadata": {},
   "source": [
    "# NUMPY\n",
    "\n",
    "* numPY è importante perchè ci permette di scrivere codice py con prestazioni simili/uguali a c.;\n",
    "* tutte le librerie che useremo saranno sviluppate con numpy;\n",
    "* tutte le librerie nate per l'AI sono ispirate a numpy (es: pyTorch->chatGPT, JAX->Google, MLX->Apple, ...)\n",
    "* numpy crea codice che gira solo sulla CPU quindi ne sono state create altre che possono girare su schede grafiche\n"
   ]
  },
  {
   "cell_type": "code",
   "execution_count": 1,
   "id": "ed03a602-ab45-4edd-aa88-8c0dda78c12f",
   "metadata": {},
   "outputs": [],
   "source": [
    "import numpy as np"
   ]
  },
  {
   "cell_type": "markdown",
   "id": "72584ef4-3475-4999-9be1-2c2e1c042e17",
   "metadata": {},
   "source": [
    "# Gli array numPY (`ndarray`)\n",
    "\n",
    "In NumPY abbiamo nuovamente gli array molto simili agli array visti in c."
   ]
  },
  {
   "cell_type": "code",
   "execution_count": 2,
   "id": "2635b9f7-522f-4ebc-a66e-b473eeb27442",
   "metadata": {},
   "outputs": [
    {
     "data": {
      "text/plain": [
       "array([0, 0, 0, 0, 0], dtype=int32)"
      ]
     },
     "execution_count": 2,
     "metadata": {},
     "output_type": "execute_result"
    }
   ],
   "source": [
    "#array di interi\n",
    "array_int=np.zeros(5, dtype=np.int32)\n",
    "array_int"
   ]
  },
  {
   "cell_type": "code",
   "execution_count": 3,
   "id": "0dfa17df-40c3-40cc-a0a2-3ab37eed109f",
   "metadata": {},
   "outputs": [
    {
     "data": {
      "text/plain": [
       "array([0., 0., 0., 0., 0.])"
      ]
     },
     "execution_count": 3,
     "metadata": {},
     "output_type": "execute_result"
    }
   ],
   "source": [
    "#array di reali\n",
    "array_float=np.zeros(5, dtype=np.float64)\n",
    "array_float"
   ]
  },
  {
   "cell_type": "code",
   "execution_count": 4,
   "id": "b40dcb35-dab9-45cb-be8d-7a8c0f24ad9b",
   "metadata": {},
   "outputs": [
    {
     "data": {
      "text/plain": [
       "array([0.+0.j, 0.+0.j, 0.+0.j, 0.+0.j, 0.+0.j])"
      ]
     },
     "execution_count": 4,
     "metadata": {},
     "output_type": "execute_result"
    }
   ],
   "source": [
    "#array di n complessi\n",
    "array_complex=np.zeros(5, dtype=np.complex128)\n",
    "array_complex"
   ]
  },
  {
   "cell_type": "code",
   "execution_count": 5,
   "id": "b7c5cf09-f295-45ae-8088-9ad4b0f2da82",
   "metadata": {},
   "outputs": [
    {
     "data": {
      "text/plain": [
       "dtype('float64')"
      ]
     },
     "execution_count": 5,
     "metadata": {},
     "output_type": "execute_result"
    }
   ],
   "source": [
    "#print tipo\n",
    "array_float.dtype"
   ]
  },
  {
   "cell_type": "code",
   "execution_count": 6,
   "id": "3b844c45-66ec-475c-a2e9-3fff1e13766c",
   "metadata": {},
   "outputs": [
    {
     "data": {
      "text/plain": [
       "array([[[0., 0., 0., 0., 0.],\n",
       "        [0., 0., 0., 0., 0.],\n",
       "        [0., 0., 0., 0., 0.],\n",
       "        [0., 0., 0., 0., 0.],\n",
       "        [0., 0., 0., 0., 0.],\n",
       "        [0., 0., 0., 0., 0.],\n",
       "        [0., 0., 0., 0., 0.]],\n",
       "\n",
       "       [[0., 0., 0., 0., 0.],\n",
       "        [0., 0., 0., 0., 0.],\n",
       "        [0., 0., 0., 0., 0.],\n",
       "        [0., 0., 0., 0., 0.],\n",
       "        [0., 0., 0., 0., 0.],\n",
       "        [0., 0., 0., 0., 0.],\n",
       "        [0., 0., 0., 0., 0.]]])"
      ]
     },
     "execution_count": 6,
     "metadata": {},
     "output_type": "execute_result"
    }
   ],
   "source": [
    "#array di matrice di reali\n",
    "#axis 0=righe; axis 1=colonne \n",
    "matrix_float=np.zeros((2, 7, 5),dtype=np.float64)\n",
    "matrix_float"
   ]
  },
  {
   "cell_type": "code",
   "execution_count": 7,
   "id": "b91f3fe9-900c-47aa-9d9a-87a33cdd7ff1",
   "metadata": {},
   "outputs": [
    {
     "name": "stdout",
     "output_type": "stream",
     "text": [
      "La matrice occupa: 560 bytes di memoria.\n",
      "La matrice è di tipo: float64.\n",
      "La matrice ha dimensioni: (2, 7, 5).\n"
     ]
    }
   ],
   "source": [
    "print(f\"La matrice occupa: {matrix_float.nbytes} bytes di memoria.\")\n",
    "print(f\"La matrice è di tipo: {matrix_float.dtype}.\")\n",
    "print(f\"La matrice ha dimensioni: {matrix_float.shape}.\")"
   ]
  },
  {
   "cell_type": "code",
   "execution_count": 8,
   "id": "a332e084-e94e-4251-a8f4-e2036d6d3da8",
   "metadata": {},
   "outputs": [
    {
     "data": {
      "text/plain": [
       "array([1, 1, 1, 1, 1], dtype=int32)"
      ]
     },
     "execution_count": 8,
     "metadata": {},
     "output_type": "execute_result"
    }
   ],
   "source": [
    "array_int_new=array_int+1      #broadcast/broadcasting\n",
    "array_int_new"
   ]
  },
  {
   "cell_type": "code",
   "execution_count": 9,
   "id": "1274ace5-381e-4ce1-a424-ef2d08656354",
   "metadata": {},
   "outputs": [
    {
     "data": {
      "text/plain": [
       "array([ 3., -3.])"
      ]
     },
     "execution_count": 9,
     "metadata": {},
     "output_type": "execute_result"
    }
   ],
   "source": [
    "v1=np.array([1.,2.])\n",
    "v2=np.array([2.,-5.])\n",
    "v1+v2"
   ]
  },
  {
   "cell_type": "markdown",
   "id": "fa92ea4a-b149-4c84-b4db-b5fc4af4c61a",
   "metadata": {},
   "source": [
    "# Uniform()\n",
    "\n",
    "`np.random.uniform(a,b,shape)` Genera un array di forma `shape` con valori pseudocasuali compresi tra `a` e `b`."
   ]
  },
  {
   "cell_type": "code",
   "execution_count": 10,
   "id": "a3b94ad3-0d6b-400f-a38a-bb824f50c2c2",
   "metadata": {},
   "outputs": [
    {
     "data": {
      "text/plain": [
       "array([0.5851768 , 0.59231915, 0.69306563, ..., 0.63332706, 0.16103689,\n",
       "       0.90049515])"
      ]
     },
     "execution_count": 10,
     "metadata": {},
     "output_type": "execute_result"
    }
   ],
   "source": [
    "array_random=np.random.uniform(0,1.,(100000000))\n",
    "array_random"
   ]
  },
  {
   "cell_type": "code",
   "execution_count": 11,
   "id": "694f9dfd-1238-4377-afae-80a99debd7b1",
   "metadata": {},
   "outputs": [
    {
     "data": {
      "text/plain": [
       "array([0.02784859, 0.48188054, 0.9565161 , ..., 0.02354035, 0.2952617 ,\n",
       "       0.50387385])"
      ]
     },
     "execution_count": 11,
     "metadata": {},
     "output_type": "execute_result"
    }
   ],
   "source": [
    "array_random2=np.random.uniform(0,1.,(100000000))\n",
    "array_random2"
   ]
  },
  {
   "cell_type": "code",
   "execution_count": 12,
   "id": "b34af685-3a26-4bb1-8deb-13a6d7689d18",
   "metadata": {},
   "outputs": [
    {
     "data": {
      "text/plain": [
       "array([0.61302539, 1.07419969, 1.64958173, ..., 0.65686741, 0.45629859,\n",
       "       1.404369  ])"
      ]
     },
     "execution_count": 12,
     "metadata": {},
     "output_type": "execute_result"
    }
   ],
   "source": [
    "array_random+array_random2"
   ]
  },
  {
   "cell_type": "markdown",
   "id": "9476fcad-fd64-46c7-ba27-2fec5f0dc525",
   "metadata": {},
   "source": [
    "# Random()\n"
   ]
  },
  {
   "cell_type": "code",
   "execution_count": 13,
   "id": "1cbd6daa-bc86-4070-b136-49aa16b929e1",
   "metadata": {},
   "outputs": [
    {
     "data": {
      "text/plain": [
       "0.8355274859923334"
      ]
     },
     "execution_count": 13,
     "metadata": {},
     "output_type": "execute_result"
    }
   ],
   "source": [
    "np.random.uniform(0,1.)"
   ]
  },
  {
   "cell_type": "code",
   "execution_count": 14,
   "id": "2f7d6623-b1f8-4954-bc57-774fc5b595f1",
   "metadata": {},
   "outputs": [
    {
     "data": {
      "text/plain": [
       "0"
      ]
     },
     "execution_count": 14,
     "metadata": {},
     "output_type": "execute_result"
    }
   ],
   "source": [
    "np.random.randint(0,7)"
   ]
  },
  {
   "cell_type": "markdown",
   "id": "183870f3-6d2d-4fd1-b2c8-4440b27928ea",
   "metadata": {},
   "source": [
    "## lanci di un dado a 6"
   ]
  },
  {
   "cell_type": "code",
   "execution_count": 15,
   "id": "f0af790b-489a-4704-91c7-49929356c847",
   "metadata": {},
   "outputs": [
    {
     "data": {
      "text/plain": [
       "array([1, 1, 6, 3, 3, 3, 3, 1, 6, 3], dtype=int32)"
      ]
     },
     "execution_count": 15,
     "metadata": {},
     "output_type": "execute_result"
    }
   ],
   "source": [
    "n=10\n",
    "dice=np.random.randint(1,7,n)\n",
    "dice"
   ]
  },
  {
   "cell_type": "code",
   "execution_count": 16,
   "id": "bd539e14-7efc-42a6-a87e-76a5d7d59208",
   "metadata": {},
   "outputs": [],
   "source": [
    "#Quanti 6 abbiamo ottenuto?\n",
    "six=dice==6"
   ]
  },
  {
   "cell_type": "code",
   "execution_count": 17,
   "id": "0029f376-01da-4e6b-b020-403b4f26cfbe",
   "metadata": {},
   "outputs": [
    {
     "data": {
      "text/plain": [
       "array([False, False,  True, False, False, False, False, False,  True,\n",
       "       False])"
      ]
     },
     "execution_count": 17,
     "metadata": {},
     "output_type": "execute_result"
    }
   ],
   "source": [
    "#Vinco se faccio 5 o 6\n",
    "win=(dice==5)|(dice==6)\n",
    "win"
   ]
  },
  {
   "cell_type": "code",
   "execution_count": 18,
   "id": "63b2945b-ffe1-4299-a07b-c293f5f9b73f",
   "metadata": {},
   "outputs": [
    {
     "data": {
      "text/plain": [
       "array([1, 1, 6, 3, 3, 3, 3, 1, 6, 3], dtype=int32)"
      ]
     },
     "execution_count": 18,
     "metadata": {},
     "output_type": "execute_result"
    }
   ],
   "source": [
    "dice"
   ]
  },
  {
   "cell_type": "code",
   "execution_count": 19,
   "id": "f8dd12d4-713b-47cc-9fa0-4966143f3866",
   "metadata": {},
   "outputs": [
    {
     "data": {
      "text/plain": [
       "2"
      ]
     },
     "execution_count": 19,
     "metadata": {},
     "output_type": "execute_result"
    }
   ],
   "source": [
    "np.count_nonzero(win)"
   ]
  },
  {
   "cell_type": "markdown",
   "id": "e92cc76a-b5ca-4e4b-9b21-021ff62ada22",
   "metadata": {},
   "source": [
    "### Esercizio:\n",
    "Alice e Bob lanciano ciascuno un dado per `n` volte, ogni volta vince chi fa il punteggio più alto. Chi vince tra i 2?"
   ]
  },
  {
   "cell_type": "code",
   "execution_count": 20,
   "id": "77e6dd54-3e2f-4b41-8fa0-76ebb6061fdb",
   "metadata": {},
   "outputs": [
    {
     "name": "stdout",
     "output_type": "stream",
     "text": [
      "Alice vince: 3 volte.\n",
      "Tiri di Alice: [6 6 2 7 6 8 4 7 4 4].\n",
      "Bob vince: 6 volte.\n",
      "Tiri di Bob: [ 5  3  5  7  9  6 12 10  6  6].\n",
      "Alice e Bob hanno pareggiato: 1 volte.\n"
     ]
    }
   ],
   "source": [
    "n=10\n",
    "a=np.random.randint(1,7,n)+np.random.randint(1,7,n)\n",
    "b=np.random.randint(1,7,n)+np.random.randint(1,7,n)\n",
    "\n",
    "print(f\"Alice vince: {np.count_nonzero(a>b)} volte.\")\n",
    "print(f\"Tiri di Alice: {a}.\")\n",
    "print(f\"Bob vince: {np.count_nonzero(b>a)} volte.\")\n",
    "print(f\"Tiri di Bob: {b}.\")\n",
    "print(f\"Alice e Bob hanno pareggiato: {np.count_nonzero(a==b)} volte.\")"
   ]
  },
  {
   "cell_type": "code",
   "execution_count": 21,
   "id": "ba0d346c-e932-49a0-b068-cee15a0bf292",
   "metadata": {},
   "outputs": [
    {
     "data": {
      "text/plain": [
       "np.False_"
      ]
     },
     "execution_count": 21,
     "metadata": {},
     "output_type": "execute_result"
    }
   ],
   "source": [
    "np.sum(a,axis=0)>np.sum(b,axis=0)"
   ]
  },
  {
   "cell_type": "code",
   "execution_count": 22,
   "id": "67f593ad-75c5-448b-8a65-29fb4d262332",
   "metadata": {},
   "outputs": [],
   "source": [
    "import matplotlib.pyplot as plt\n",
    "\n",
    "n=100000\n",
    "a=np.random.randint(1,7,n)+np.random.randint(1,7,n)"
   ]
  },
  {
   "cell_type": "code",
   "execution_count": 23,
   "id": "dfe16412-21e7-46fa-92e4-7278f1192398",
   "metadata": {},
   "outputs": [
    {
     "data": {
      "text/plain": [
       "array([ 8, 11, 10, ...,  4,  9,  6], dtype=int32)"
      ]
     },
     "execution_count": 23,
     "metadata": {},
     "output_type": "execute_result"
    }
   ],
   "source": [
    "a"
   ]
  },
  {
   "cell_type": "code",
   "execution_count": 24,
   "id": "a402b655-5c54-4b4e-a832-51fcb5c9850b",
   "metadata": {},
   "outputs": [
    {
     "data": {
      "text/plain": [
       "(array([ 2736.,  5424.,  8352., 11013., 13857., 16776., 14024., 11145.,\n",
       "         8269.,  5713.,  2691.]),\n",
       " array([ 2.        ,  2.90909091,  3.81818182,  4.72727273,  5.63636364,\n",
       "         6.54545455,  7.45454545,  8.36363636,  9.27272727, 10.18181818,\n",
       "        11.09090909, 12.        ]),\n",
       " <BarContainer object of 11 artists>)"
      ]
     },
     "execution_count": 24,
     "metadata": {},
     "output_type": "execute_result"
    },
    {
     "data": {
      "image/png": "[encoded data removed]",
      "text/plain": [
       "<Figure size 640x480 with 1 Axes>"
      ]
     },
     "metadata": {},
     "output_type": "display_data"
    }
   ],
   "source": [
    "plt.hist(a, bins=11)"
   ]
  },
  {
   "cell_type": "code",
   "execution_count": 25,
   "id": "33095a81-857c-43cd-96f0-c84721ed1de3",
   "metadata": {},
   "outputs": [
    {
     "data": {
      "text/plain": [
       "array(['testa', 'testa', 'Zappa', 'testa', 'testa', 'testa', 'Zappa',\n",
       "       'Zappa', 'Zappa', 'Zappa', 'Zappa', 'Zappa', 'testa', 'Zappa',\n",
       "       'Zappa', 'Zappa', 'Zappa', 'Zappa', 'Zappa', 'testa'], dtype='<U5')"
      ]
     },
     "execution_count": 25,
     "metadata": {},
     "output_type": "execute_result"
    }
   ],
   "source": [
    "coin=np.random.choice([\"testa\",\"Zappa\"],20)\n",
    "coin"
   ]
  },
  {
   "cell_type": "code",
   "execution_count": 26,
   "id": "54acb9e3-c07f-48c7-b30d-e4ed4d1a6745",
   "metadata": {},
   "outputs": [
    {
     "data": {
      "text/plain": [
       "array([['testa', 'testa', 'Zappa', 'Zappa', 'Zappa', 'Zappa', 'testa',\n",
       "        'Zappa', 'testa', 'Zappa', 'Zappa', 'testa', 'Zappa', 'testa',\n",
       "        'testa', 'Zappa', 'testa', 'testa', 'testa', 'Zappa'],\n",
       "       ['Zappa', 'Zappa', 'Zappa', 'testa', 'Zappa', 'testa', 'Zappa',\n",
       "        'testa', 'testa', 'testa', 'Zappa', 'Zappa', 'Zappa', 'testa',\n",
       "        'testa', 'Zappa', 'Zappa', 'testa', 'testa', 'Zappa'],\n",
       "       ['testa', 'testa', 'testa', 'Zappa', 'testa', 'Zappa', 'testa',\n",
       "        'testa', 'testa', 'testa', 'testa', 'testa', 'Zappa', 'testa',\n",
       "        'Zappa', 'testa', 'Zappa', 'testa', 'testa', 'testa'],\n",
       "       ['Zappa', 'testa', 'testa', 'testa', 'Zappa', 'Zappa', 'testa',\n",
       "        'Zappa', 'Zappa', 'testa', 'Zappa', 'testa', 'testa', 'Zappa',\n",
       "        'testa', 'Zappa', 'Zappa', 'Zappa', 'Zappa', 'testa'],\n",
       "       ['Zappa', 'Zappa', 'testa', 'testa', 'Zappa', 'Zappa', 'testa',\n",
       "        'testa', 'Zappa', 'testa', 'Zappa', 'testa', 'testa', 'testa',\n",
       "        'testa', 'testa', 'Zappa', 'testa', 'testa', 'Zappa'],\n",
       "       ['Zappa', 'Zappa', 'testa', 'Zappa', 'Zappa', 'testa', 'Zappa',\n",
       "        'Zappa', 'testa', 'testa', 'Zappa', 'Zappa', 'testa', 'testa',\n",
       "        'Zappa', 'Zappa', 'testa', 'Zappa', 'testa', 'testa']],\n",
       "      dtype='<U5')"
      ]
     },
     "execution_count": 26,
     "metadata": {},
     "output_type": "execute_result"
    }
   ],
   "source": [
    "np.random.choice([\"testa\",\"Zappa\"],(6,20))"
   ]
  },
  {
   "cell_type": "code",
   "execution_count": 27,
   "id": "1c25ec63-11ba-445b-b871-4b0af40fc723",
   "metadata": {},
   "outputs": [
    {
     "data": {
      "text/plain": [
       "array(['testa', 'Zappa', 'testa', 'Zappa', 'testa', 'Zappa', 'Zappa',\n",
       "       'Zappa', 'Zappa', 'testa', 'testa', 'testa', 'testa', 'Zappa',\n",
       "       'testa', 'Zappa', 'Zappa', 'testa', 'testa', 'Zappa'], dtype='<U5')"
      ]
     },
     "execution_count": 27,
     "metadata": {},
     "output_type": "execute_result"
    }
   ],
   "source": [
    "np.random.choice([\"testa\",\"Zappa\"],20, p=(0.6,0.4))"
   ]
  },
  {
   "cell_type": "code",
   "execution_count": null,
   "id": "882561f2-524d-48c8-aa1b-4fa2a5ce8da3",
   "metadata": {},
   "outputs": [],
   "source": []
  },
  {
   "cell_type": "markdown",
   "id": "6060e617-c5cb-4727-ada7-20bfacc5a66d",
   "metadata": {},
   "source": [
    "# Array 2d \n",
    "10/10/25"
   ]
  },
  {
   "cell_type": "code",
   "execution_count": 68,
   "id": "bff24b60-89b4-4833-b6c6-eb216edb8138",
   "metadata": {},
   "outputs": [],
   "source": [
    "import numpy as np\n",
    "import matplotlib.pyplot as plt"
   ]
  },
  {
   "cell_type": "code",
   "execution_count": 69,
   "id": "53c94c44-b60b-495a-bc87-abce8de6717e",
   "metadata": {},
   "outputs": [
    {
     "data": {
      "text/plain": [
       "array([[0, 1, 2, 3, 4],\n",
       "       [5, 6, 7, 8, 9]])"
      ]
     },
     "execution_count": 69,
     "metadata": {},
     "output_type": "execute_result"
    }
   ],
   "source": [
    "# axis 0 -> righe\n",
    "# axis 1-> colonne\n",
    "matrix=np.arange(10).reshape((2,5))\n",
    "matrix"
   ]
  },
  {
   "cell_type": "code",
   "execution_count": 70,
   "id": "50c99c07-e801-49b2-a400-5f7d011cc013",
   "metadata": {},
   "outputs": [
    {
     "data": {
      "text/plain": [
       "dtype('int64')"
      ]
     },
     "execution_count": 70,
     "metadata": {},
     "output_type": "execute_result"
    }
   ],
   "source": [
    "matrix.dtype"
   ]
  },
  {
   "cell_type": "code",
   "execution_count": 71,
   "id": "29f40319-a59a-42ef-9278-cc3a079ee157",
   "metadata": {},
   "outputs": [
    {
     "data": {
      "text/plain": [
       "(2, 5)"
      ]
     },
     "execution_count": 71,
     "metadata": {},
     "output_type": "execute_result"
    }
   ],
   "source": [
    "matrix.shape"
   ]
  },
  {
   "cell_type": "code",
   "execution_count": 72,
   "id": "7c3d5175-469e-4444-9751-5be05c1e8855",
   "metadata": {},
   "outputs": [
    {
     "data": {
      "text/plain": [
       "array([0, 1, 2, 3, 4, 5, 6, 7])"
      ]
     },
     "execution_count": 72,
     "metadata": {},
     "output_type": "execute_result"
    }
   ],
   "source": [
    "array=np.arange(8)\n",
    "array"
   ]
  },
  {
   "cell_type": "code",
   "execution_count": 73,
   "id": "66b8ab19-0f58-451f-b056-5eb0fc34b52a",
   "metadata": {},
   "outputs": [
    {
     "data": {
      "text/plain": [
       "(8,)"
      ]
     },
     "execution_count": 73,
     "metadata": {},
     "output_type": "execute_result"
    }
   ],
   "source": [
    "array.shape"
   ]
  },
  {
   "cell_type": "code",
   "execution_count": 74,
   "id": "76304f41-822a-4b6b-b6ee-6598b7f5c375",
   "metadata": {},
   "outputs": [
    {
     "data": {
      "text/plain": [
       "array([[ 0,  1,  2,  3],\n",
       "       [ 4,  5,  6,  7],\n",
       "       [ 8,  9, 10, 11],\n",
       "       [12, 13, 14, 15],\n",
       "       [16, 17, 18, 19],\n",
       "       [20, 21, 22, 23]])"
      ]
     },
     "execution_count": 74,
     "metadata": {},
     "output_type": "execute_result"
    }
   ],
   "source": [
    "matrix=np.arange(24).reshape((6,-1))\n",
    "matrix"
   ]
  },
  {
   "cell_type": "code",
   "execution_count": 75,
   "id": "dc21b048-6ddb-4881-91b9-0b70e1dde56b",
   "metadata": {},
   "outputs": [
    {
     "data": {
      "text/plain": [
       "array([[[0.49558108, 0.15288392, 0.17594124, 0.5312977 , 0.45613662],\n",
       "        [0.58184828, 0.98382642, 0.40187323, 0.04335534, 0.23041104],\n",
       "        [0.29039112, 0.33874544, 0.81225549, 0.57264965, 0.33931468]],\n",
       "\n",
       "       [[0.92336962, 0.08673211, 0.1401478 , 0.70895294, 0.72007521],\n",
       "        [0.76780096, 0.17327421, 0.57542844, 0.46446581, 0.69987828],\n",
       "        [0.81319212, 0.41917769, 0.61190955, 0.27494839, 0.9787253 ]],\n",
       "\n",
       "       [[0.55736191, 0.11808756, 0.86296931, 0.7201686 , 0.39797   ],\n",
       "        [0.65861833, 0.85709629, 0.37033357, 0.32947587, 0.49152926],\n",
       "        [0.5525939 , 0.42686544, 0.03201452, 0.69175671, 0.63300053]]])"
      ]
     },
     "execution_count": 75,
     "metadata": {},
     "output_type": "execute_result"
    }
   ],
   "source": [
    "array3d=np.random.uniform(0,1.,(3,3,5))\n",
    "array3d"
   ]
  },
  {
   "cell_type": "markdown",
   "id": "aac8aafe-d3a3-4561-b4ef-fa717472984f",
   "metadata": {},
   "source": [
    "# Indicizzazione python degli array "
   ]
  },
  {
   "cell_type": "code",
   "execution_count": 76,
   "id": "c4dd9747-f1d3-4332-9f31-265510704c24",
   "metadata": {},
   "outputs": [
    {
     "data": {
      "text/plain": [
       "array([0, 1, 2, 3, 4, 5, 6, 7])"
      ]
     },
     "execution_count": 76,
     "metadata": {},
     "output_type": "execute_result"
    }
   ],
   "source": [
    "array=np.arange(8)\n",
    "array"
   ]
  },
  {
   "cell_type": "code",
   "execution_count": 77,
   "id": "57835822-05cf-4aba-a8b5-864e884f2a3a",
   "metadata": {},
   "outputs": [
    {
     "data": {
      "text/plain": [
       "np.int64(4)"
      ]
     },
     "execution_count": 77,
     "metadata": {},
     "output_type": "execute_result"
    }
   ],
   "source": [
    "array[4] #indicizzazione python"
   ]
  },
  {
   "cell_type": "code",
   "execution_count": 78,
   "id": "ed5c0f61-aee0-4d79-aa6c-4f4d007454ab",
   "metadata": {},
   "outputs": [
    {
     "data": {
      "text/plain": [
       "array([2, 4, 6])"
      ]
     },
     "execution_count": 78,
     "metadata": {},
     "output_type": "execute_result"
    }
   ],
   "source": [
    "array[2:7:2]   #slicing pyhon"
   ]
  },
  {
   "cell_type": "code",
   "execution_count": 79,
   "id": "3fdc7543-1eaa-4fb2-90d0-7d23eb45ec2c",
   "metadata": {},
   "outputs": [
    {
     "data": {
      "text/plain": [
       "array([ 0,  1, 99,  3, 99,  5, 99,  7])"
      ]
     },
     "execution_count": 79,
     "metadata": {},
     "output_type": "execute_result"
    }
   ],
   "source": [
    "#prima novità \n",
    "array[2:7:2]=99    #broadcast\n",
    "array"
   ]
  },
  {
   "cell_type": "markdown",
   "id": "05f507df-18c3-4d3f-838c-e1243d4caab3",
   "metadata": {},
   "source": [
    "# Indicizzazione booleana"
   ]
  },
  {
   "cell_type": "code",
   "execution_count": 122,
   "id": "987b8ea4-75da-4764-99c6-1009814c190d",
   "metadata": {},
   "outputs": [],
   "source": [
    "import numpy as np\n",
    "import matplotlib.pyplot as plt"
   ]
  },
  {
   "cell_type": "code",
   "execution_count": 123,
   "id": "16ddf140-4f8d-41e2-b242-0b2aead9df95",
   "metadata": {},
   "outputs": [
    {
     "data": {
      "text/plain": [
       "array([ 0,  1, 67,  3, 67,  5, 67,  7])"
      ]
     },
     "execution_count": 123,
     "metadata": {},
     "output_type": "execute_result"
    }
   ],
   "source": [
    "#seconda novità \n",
    "#gli array di booleani possono essere usati come indici\n",
    "array"
   ]
  },
  {
   "cell_type": "code",
   "execution_count": 124,
   "id": "980443c9-a357-49aa-8713-365368b2ccee",
   "metadata": {},
   "outputs": [
    {
     "data": {
      "text/plain": [
       "array([False, False, False, False, False, False, False, False])"
      ]
     },
     "execution_count": 124,
     "metadata": {},
     "output_type": "execute_result"
    }
   ],
   "source": [
    "bool_index=array==99\n",
    "bool_index"
   ]
  },
  {
   "cell_type": "code",
   "execution_count": 125,
   "id": "92788a36-47a8-46c4-94ce-6178a2d05bc4",
   "metadata": {},
   "outputs": [
    {
     "data": {
      "text/plain": [
       "array([ 0,  1, 67,  3, 67,  5, 67,  7])"
      ]
     },
     "execution_count": 125,
     "metadata": {},
     "output_type": "execute_result"
    }
   ],
   "source": [
    "array[bool_index]=67\n",
    "array"
   ]
  },
  {
   "cell_type": "markdown",
   "id": "cc7c09fd-f29e-4d99-b580-8e4de9da15b7",
   "metadata": {},
   "source": [
    "`array[bool_index]` in NumPY si chiama **view**"
   ]
  },
  {
   "cell_type": "code",
   "execution_count": 126,
   "id": "7f4a4a8e-42cb-4680-9659-67e1787aeb95",
   "metadata": {},
   "outputs": [
    {
     "data": {
      "text/plain": [
       "array([[1., 1., 1., 1., 1., 1., 1., 1.],\n",
       "       [1., 1., 1., 1., 1., 1., 1., 1.],\n",
       "       [1., 1., 1., 1., 1., 1., 1., 1.],\n",
       "       [1., 1., 1., 1., 1., 1., 1., 1.],\n",
       "       [1., 1., 1., 1., 1., 1., 1., 1.],\n",
       "       [1., 1., 1., 1., 1., 1., 1., 1.],\n",
       "       [1., 1., 1., 1., 1., 1., 1., 1.],\n",
       "       [1., 1., 1., 1., 1., 1., 1., 1.]])"
      ]
     },
     "execution_count": 126,
     "metadata": {},
     "output_type": "execute_result"
    }
   ],
   "source": [
    "matrix_ones=np.ones((8,8))\n",
    "matrix_ones"
   ]
  },
  {
   "cell_type": "code",
   "execution_count": 127,
   "id": "e878850e-aba4-4c79-a321-ad898df6f483",
   "metadata": {},
   "outputs": [],
   "source": [
    "matrix_ones[::2]=0"
   ]
  },
  {
   "cell_type": "code",
   "execution_count": 128,
   "id": "e604e6c6-9569-44dd-bc85-2d1c15258e0e",
   "metadata": {},
   "outputs": [
    {
     "data": {
      "text/plain": [
       "<matplotlib.image.AxesImage at 0x2c9b1a26210>"
      ]
     },
     "execution_count": 128,
     "metadata": {},
     "output_type": "execute_result"
    },
    {
     "data": {
      "image/png": "[encoded data removed]",
      "text/plain": [
       "<Figure size 640x480 with 1 Axes>"
      ]
     },
     "metadata": {},
     "output_type": "display_data"
    }
   ],
   "source": [
    "plt.imshow(matrix_ones, cmap=\"Greys\")"
   ]
  },
  {
   "cell_type": "code",
   "execution_count": 129,
   "id": "7f14c75e-8202-473a-84bb-794e889d7e8e",
   "metadata": {},
   "outputs": [
    {
     "data": {
      "text/plain": [
       "array([[0., 0., 0., 0., 0., 0., 0., 0.],\n",
       "       [1., 1., 1., 1., 1., 1., 1., 1.],\n",
       "       [0., 0., 0., 0., 0., 0., 0., 0.],\n",
       "       [1., 1., 1., 1., 1., 1., 1., 1.],\n",
       "       [0., 0., 0., 0., 0., 0., 0., 0.],\n",
       "       [1., 1., 1., 1., 1., 1., 1., 1.],\n",
       "       [0., 0., 0., 0., 0., 0., 0., 0.],\n",
       "       [1., 1., 1., 1., 1., 1., 1., 1.]])"
      ]
     },
     "execution_count": 129,
     "metadata": {},
     "output_type": "execute_result"
    }
   ],
   "source": [
    "matrix_ones"
   ]
  },
  {
   "cell_type": "code",
   "execution_count": 130,
   "id": "38adaa37-a0da-4296-b084-0a2d4c31ca7e",
   "metadata": {},
   "outputs": [
    {
     "data": {
      "text/plain": [
       "array([[0., 1., 0., 1., 0., 1., 0., 1.],\n",
       "       [0., 1., 0., 1., 0., 1., 0., 1.],\n",
       "       [0., 1., 0., 1., 0., 1., 0., 1.],\n",
       "       [0., 1., 0., 1., 0., 1., 0., 1.],\n",
       "       [0., 1., 0., 1., 0., 1., 0., 1.],\n",
       "       [0., 1., 0., 1., 0., 1., 0., 1.],\n",
       "       [0., 1., 0., 1., 0., 1., 0., 1.],\n",
       "       [0., 1., 0., 1., 0., 1., 0., 1.]])"
      ]
     },
     "execution_count": 130,
     "metadata": {},
     "output_type": "execute_result"
    }
   ],
   "source": [
    "matrix_ones=np.ones((8,8))\n",
    "matrix_ones[:,::2]=0\n",
    "matrix_ones"
   ]
  },
  {
   "cell_type": "code",
   "execution_count": 131,
   "id": "26eb189b-343e-40b4-b37e-c6df2c8be88a",
   "metadata": {},
   "outputs": [
    {
     "data": {
      "text/plain": [
       "<matplotlib.image.AxesImage at 0x2c9b1a75e50>"
      ]
     },
     "execution_count": 131,
     "metadata": {},
     "output_type": "execute_result"
    },
    {
     "data": {
      "image/png": "[encoded data removed]",
      "text/plain": [
       "<Figure size 640x480 with 1 Axes>"
      ]
     },
     "metadata": {},
     "output_type": "display_data"
    }
   ],
   "source": [
    "plt.imshow(matrix_ones, cmap=\"Greys\")"
   ]
  },
  {
   "cell_type": "code",
   "execution_count": 157,
   "id": "1b38e458-8cf7-4707-b839-3072ebe6e08c",
   "metadata": {},
   "outputs": [
    {
     "data": {
      "text/plain": [
       "<matplotlib.image.AxesImage at 0x2c9b5bc0550>"
      ]
     },
     "execution_count": 157,
     "metadata": {},
     "output_type": "execute_result"
    },
    {
     "data": {
      "image/png": "[encoded data removed]",
      "text/plain": [
       "<Figure size 640x480 with 1 Axes>"
      ]
     },
     "metadata": {},
     "output_type": "display_data"
    }
   ],
   "source": [
    "matrix_ones=np.ones((8,8))\n",
    "matrix_ones[::2,::2]=0\n",
    "matrix_ones[1::2,1::2]=0\n",
    "matrix_ones\n",
    "plt.imshow(matrix_ones, cmap=\"Greys\")"
   ]
  },
  {
   "cell_type": "code",
   "execution_count": null,
   "id": "b6f35c7c-fba4-4709-b388-e25ea282deb3",
   "metadata": {},
   "outputs": [],
   "source": []
  },
  {
   "cell_type": "code",
   "execution_count": null,
   "id": "8d753f41-7085-4da3-8eb7-b1d34acc7f44",
   "metadata": {},
   "outputs": [],
   "source": []
  }
 ],
 "metadata": {
  "kernelspec": {
   "display_name": "Python 3 (ipykernel)",
   "language": "python",
   "name": "python3"
  },
  "language_info": {
   "codemirror_mode": {
    "name": "ipython",
    "version": 3
   },
   "file_extension": ".py",
   "mimetype": "text/x-python",
   "name": "python",
   "nbconvert_exporter": "python",
   "pygments_lexer": "ipython3",
   "version": "3.13.5"
  }
 },
 "nbformat": 4,
 "nbformat_minor": 5
}
