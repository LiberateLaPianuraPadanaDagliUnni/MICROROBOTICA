{
 "cells": [
  {
   "cell_type": "markdown",
   "id": "0a47386c-4359-4dde-8053-6f3188ea735b",
   "metadata": {},
   "source": [
    "# NUMPY\n",
    "\n",
    "* numPY è importante perchè ci permette di scrivere codice py con prestazioni simili/uguali a c.;\n",
    "* tutte le librerie che useremo saranno sviluppate con numpy;\n",
    "* tutte le librerie nate per l'AI sono ispirate a numpy (es: pyTorch->chatGPT, JAX->Google, MLX->Apple, ...)\n",
    "* numpy crea codice che gira solo sulla CPU quindi ne sono state create altre che possono girare su schede grafiche\n"
   ]
  },
  {
   "cell_type": "code",
   "execution_count": 3,
   "id": "ed03a602-ab45-4edd-aa88-8c0dda78c12f",
   "metadata": {},
   "outputs": [],
   "source": [
    "import numpy as np"
   ]
  },
  {
   "cell_type": "markdown",
   "id": "72584ef4-3475-4999-9be1-2c2e1c042e17",
   "metadata": {},
   "source": [
    "# Gli array numPY (`ndarray`)\n",
    "\n",
    "In NumPY abbiamo nuovamente gli array molto simili agli array visti in c."
   ]
  },
  {
   "cell_type": "code",
   "execution_count": 4,
   "id": "2635b9f7-522f-4ebc-a66e-b473eeb27442",
   "metadata": {},
   "outputs": [
    {
     "data": {
      "text/plain": [
       "array([0, 0, 0, 0, 0], dtype=int32)"
      ]
     },
     "execution_count": 4,
     "metadata": {},
     "output_type": "execute_result"
    }
   ],
   "source": [
    "#array di interi\n",
    "array_int=np.zeros(5, dtype=np.int32)\n",
    "array_int"
   ]
  },
  {
   "cell_type": "code",
   "execution_count": 5,
   "id": "0dfa17df-40c3-40cc-a0a2-3ab37eed109f",
   "metadata": {},
   "outputs": [
    {
     "data": {
      "text/plain": [
       "array([0., 0., 0., 0., 0.])"
      ]
     },
     "execution_count": 5,
     "metadata": {},
     "output_type": "execute_result"
    }
   ],
   "source": [
    "#array di reali\n",
    "array_float=np.zeros(5, dtype=np.float64)\n",
    "array_float"
   ]
  },
  {
   "cell_type": "code",
   "execution_count": 6,
   "id": "b40dcb35-dab9-45cb-be8d-7a8c0f24ad9b",
   "metadata": {},
   "outputs": [
    {
     "data": {
      "text/plain": [
       "array([0.+0.j, 0.+0.j, 0.+0.j, 0.+0.j, 0.+0.j])"
      ]
     },
     "execution_count": 6,
     "metadata": {},
     "output_type": "execute_result"
    }
   ],
   "source": [
    "#array di n complessi\n",
    "array_complex=np.zeros(5, dtype=np.complex128)\n",
    "array_complex"
   ]
  },
  {
   "cell_type": "code",
   "execution_count": 7,
   "id": "b7c5cf09-f295-45ae-8088-9ad4b0f2da82",
   "metadata": {},
   "outputs": [
    {
     "data": {
      "text/plain": [
       "dtype('float64')"
      ]
     },
     "execution_count": 7,
     "metadata": {},
     "output_type": "execute_result"
    }
   ],
   "source": [
    "#print tipo\n",
    "array_float.dtype"
   ]
  },
  {
   "cell_type": "code",
   "execution_count": 8,
   "id": "3b844c45-66ec-475c-a2e9-3fff1e13766c",
   "metadata": {},
   "outputs": [
    {
     "data": {
      "text/plain": [
       "array([[[0., 0., 0., 0., 0.],\n",
       "        [0., 0., 0., 0., 0.],\n",
       "        [0., 0., 0., 0., 0.],\n",
       "        [0., 0., 0., 0., 0.],\n",
       "        [0., 0., 0., 0., 0.],\n",
       "        [0., 0., 0., 0., 0.],\n",
       "        [0., 0., 0., 0., 0.]],\n",
       "\n",
       "       [[0., 0., 0., 0., 0.],\n",
       "        [0., 0., 0., 0., 0.],\n",
       "        [0., 0., 0., 0., 0.],\n",
       "        [0., 0., 0., 0., 0.],\n",
       "        [0., 0., 0., 0., 0.],\n",
       "        [0., 0., 0., 0., 0.],\n",
       "        [0., 0., 0., 0., 0.]]])"
      ]
     },
     "execution_count": 8,
     "metadata": {},
     "output_type": "execute_result"
    }
   ],
   "source": [
    "#array di matrice di reali\n",
    "#axis 0=righe; axis 1=colonne \n",
    "matrix_float=np.zeros((2, 7, 5),dtype=np.float64)\n",
    "matrix_float"
   ]
  },
  {
   "cell_type": "code",
   "execution_count": 9,
   "id": "b91f3fe9-900c-47aa-9d9a-87a33cdd7ff1",
   "metadata": {},
   "outputs": [
    {
     "name": "stdout",
     "output_type": "stream",
     "text": [
      "La matrice occupa: 560 bytes di memoria.\n",
      "La matrice è di tipo: float64.\n",
      "La matrice ha dimensioni: (2, 7, 5).\n"
     ]
    }
   ],
   "source": [
    "print(f\"La matrice occupa: {matrix_float.nbytes} bytes di memoria.\")\n",
    "print(f\"La matrice è di tipo: {matrix_float.dtype}.\")\n",
    "print(f\"La matrice ha dimensioni: {matrix_float.shape}.\")"
   ]
  },
  {
   "cell_type": "code",
   "execution_count": 10,
   "id": "a332e084-e94e-4251-a8f4-e2036d6d3da8",
   "metadata": {},
   "outputs": [
    {
     "data": {
      "text/plain": [
       "array([1, 1, 1, 1, 1], dtype=int32)"
      ]
     },
     "execution_count": 10,
     "metadata": {},
     "output_type": "execute_result"
    }
   ],
   "source": [
    "array_int_new=array_int+1      #broadcast/broadcasting\n",
    "array_int_new"
   ]
  },
  {
   "cell_type": "code",
   "execution_count": 11,
   "id": "1274ace5-381e-4ce1-a424-ef2d08656354",
   "metadata": {},
   "outputs": [
    {
     "data": {
      "text/plain": [
       "array([ 3., -3.])"
      ]
     },
     "execution_count": 11,
     "metadata": {},
     "output_type": "execute_result"
    }
   ],
   "source": [
    "v1=np.array([1.,2.])\n",
    "v2=np.array([2.,-5.])\n",
    "v1+v2"
   ]
  },
  {
   "cell_type": "markdown",
   "id": "fa92ea4a-b149-4c84-b4db-b5fc4af4c61a",
   "metadata": {},
   "source": [
    "# Uniform()\n",
    "\n",
    "`np.random.uniform(a,b,shape)` Genera un array di forma `shape` con valori pseudocasuali compresi tra `a` e `b`."
   ]
  },
  {
   "cell_type": "code",
   "execution_count": 12,
   "id": "a3b94ad3-0d6b-400f-a38a-bb824f50c2c2",
   "metadata": {},
   "outputs": [
    {
     "data": {
      "text/plain": [
       "array([0.71887537, 0.26356354, 0.98796209, ..., 0.36806048, 0.32026688,\n",
       "       0.96794051])"
      ]
     },
     "execution_count": 12,
     "metadata": {},
     "output_type": "execute_result"
    }
   ],
   "source": [
    "array_random=np.random.uniform(0,1.,(100000000))\n",
    "array_random"
   ]
  },
  {
   "cell_type": "code",
   "execution_count": 13,
   "id": "694f9dfd-1238-4377-afae-80a99debd7b1",
   "metadata": {},
   "outputs": [
    {
     "data": {
      "text/plain": [
       "array([0.36100813, 0.27534418, 0.61002323, ..., 0.36265558, 0.43701143,\n",
       "       0.55019954])"
      ]
     },
     "execution_count": 13,
     "metadata": {},
     "output_type": "execute_result"
    }
   ],
   "source": [
    "array_random2=np.random.uniform(0,1.,(100000000))\n",
    "array_random2"
   ]
  },
  {
   "cell_type": "code",
   "execution_count": 14,
   "id": "b34af685-3a26-4bb1-8deb-13a6d7689d18",
   "metadata": {},
   "outputs": [
    {
     "data": {
      "text/plain": [
       "array([1.0798835 , 0.53890772, 1.59798531, ..., 0.73071606, 0.75727831,\n",
       "       1.51814005])"
      ]
     },
     "execution_count": 14,
     "metadata": {},
     "output_type": "execute_result"
    }
   ],
   "source": [
    "array_random+array_random2"
   ]
  },
  {
   "cell_type": "markdown",
   "id": "9476fcad-fd64-46c7-ba27-2fec5f0dc525",
   "metadata": {},
   "source": [
    "# Random()\n"
   ]
  },
  {
   "cell_type": "code",
   "execution_count": 16,
   "id": "1cbd6daa-bc86-4070-b136-49aa16b929e1",
   "metadata": {},
   "outputs": [
    {
     "data": {
      "text/plain": [
       "0.7691433590835917"
      ]
     },
     "execution_count": 16,
     "metadata": {},
     "output_type": "execute_result"
    }
   ],
   "source": [
    "np.random.uniform(0,1.)"
   ]
  },
  {
   "cell_type": "code",
   "execution_count": 17,
   "id": "2f7d6623-b1f8-4954-bc57-774fc5b595f1",
   "metadata": {},
   "outputs": [
    {
     "data": {
      "text/plain": [
       "2"
      ]
     },
     "execution_count": 17,
     "metadata": {},
     "output_type": "execute_result"
    }
   ],
   "source": [
    "np.random.randint(0,7)"
   ]
  },
  {
   "cell_type": "markdown",
   "id": "183870f3-6d2d-4fd1-b2c8-4440b27928ea",
   "metadata": {},
   "source": [
    "## lanci di un dado a 6"
   ]
  },
  {
   "cell_type": "code",
   "execution_count": 18,
   "id": "f0af790b-489a-4704-91c7-49929356c847",
   "metadata": {},
   "outputs": [
    {
     "data": {
      "text/plain": [
       "array([4, 4, 6, 5, 1, 5, 2, 2, 1, 1], dtype=int32)"
      ]
     },
     "execution_count": 18,
     "metadata": {},
     "output_type": "execute_result"
    }
   ],
   "source": [
    "n=10\n",
    "dice=np.random.randint(1,7,n)\n",
    "dice"
   ]
  },
  {
   "cell_type": "code",
   "execution_count": 19,
   "id": "bd539e14-7efc-42a6-a87e-76a5d7d59208",
   "metadata": {},
   "outputs": [
    {
     "data": {
      "text/plain": [
       "array([False, False,  True, False, False, False, False, False, False,\n",
       "       False])"
      ]
     },
     "execution_count": 19,
     "metadata": {},
     "output_type": "execute_result"
    }
   ],
   "source": [
    "#Quanti 6 abbiamo ottenuto?\n",
    "six=dice==6"
   ]
  },
  {
   "cell_type": "code",
   "execution_count": 25,
   "id": "0029f376-01da-4e6b-b020-403b4f26cfbe",
   "metadata": {},
   "outputs": [
    {
     "data": {
      "text/plain": [
       "array([False, False,  True,  True, False,  True, False, False, False,\n",
       "       False])"
      ]
     },
     "execution_count": 25,
     "metadata": {},
     "output_type": "execute_result"
    }
   ],
   "source": [
    "#Vinco se faccio 5 o 6\n",
    "win=(dice==5)|(dice==6)\n",
    "win"
   ]
  },
  {
   "cell_type": "code",
   "execution_count": 26,
   "id": "63b2945b-ffe1-4299-a07b-c293f5f9b73f",
   "metadata": {},
   "outputs": [
    {
     "data": {
      "text/plain": [
       "array([4, 4, 6, 5, 1, 5, 2, 2, 1, 1], dtype=int32)"
      ]
     },
     "execution_count": 26,
     "metadata": {},
     "output_type": "execute_result"
    }
   ],
   "source": [
    "dice"
   ]
  },
  {
   "cell_type": "code",
   "execution_count": 27,
   "id": "f8dd12d4-713b-47cc-9fa0-4966143f3866",
   "metadata": {},
   "outputs": [
    {
     "data": {
      "text/plain": [
       "3"
      ]
     },
     "execution_count": 27,
     "metadata": {},
     "output_type": "execute_result"
    }
   ],
   "source": [
    "np.count_nonzero(win)"
   ]
  },
  {
   "cell_type": "markdown",
   "id": "e92cc76a-b5ca-4e4b-9b21-021ff62ada22",
   "metadata": {},
   "source": [
    "### Esercizio:\n",
    "Alice e Bob lanciano ciascuno un dado per `n` volte, ogni volta vince chi fa il punteggio più alto. Chi vince tra i 2?"
   ]
  },
  {
   "cell_type": "code",
   "execution_count": 47,
   "id": "77e6dd54-3e2f-4b41-8fa0-76ebb6061fdb",
   "metadata": {},
   "outputs": [
    {
     "name": "stdout",
     "output_type": "stream",
     "text": [
      "Alice vince: 2 volte.\n",
      "Tiri di Alice: [ 2  6  8  6  5 10  8  5  6 10].\n",
      "Bob vince: 6 volte.\n",
      "Tiri di Bob: [ 8  7  9  6  6  4  3 11  6 11].\n",
      "Alice e Bob hanno pareggiato: 2 volte.\n"
     ]
    }
   ],
   "source": [
    "n=10\n",
    "a=np.random.randint(1,7,n)+np.random.randint(1,7,n)\n",
    "b=np.random.randint(1,7,n)+np.random.randint(1,7,n)\n",
    "\n",
    "print(f\"Alice vince: {np.count_nonzero(a>b)} volte.\")\n",
    "print(f\"Tiri di Alice: {a}.\")\n",
    "print(f\"Bob vince: {np.count_nonzero(b>a)} volte.\")\n",
    "print(f\"Tiri di Bob: {b}.\")\n",
    "print(f\"Alice e Bob hanno pareggiato: {np.count_nonzero(a==b)} volte.\")"
   ]
  },
  {
   "cell_type": "code",
   "execution_count": 48,
   "id": "ba0d346c-e932-49a0-b068-cee15a0bf292",
   "metadata": {},
   "outputs": [
    {
     "data": {
      "text/plain": [
       "np.False_"
      ]
     },
     "execution_count": 48,
     "metadata": {},
     "output_type": "execute_result"
    }
   ],
   "source": [
    "np.sum(a,axis=0)>np.sum(b,axis=0)"
   ]
  },
  {
   "cell_type": "code",
   "execution_count": 64,
   "id": "67f593ad-75c5-448b-8a65-29fb4d262332",
   "metadata": {},
   "outputs": [],
   "source": [
    "import matplotlib.pyplot as plt\n",
    "\n",
    "n=100000\n",
    "a=np.random.randint(1,7,n)+np.random.randint(1,7,n)"
   ]
  },
  {
   "cell_type": "code",
   "execution_count": 65,
   "id": "dfe16412-21e7-46fa-92e4-7278f1192398",
   "metadata": {},
   "outputs": [
    {
     "data": {
      "text/plain": [
       "array([ 7,  7,  9, ...,  9, 10,  6], dtype=int32)"
      ]
     },
     "execution_count": 65,
     "metadata": {},
     "output_type": "execute_result"
    }
   ],
   "source": [
    "a"
   ]
  },
  {
   "cell_type": "code",
   "execution_count": 67,
   "id": "a402b655-5c54-4b4e-a832-51fcb5c9850b",
   "metadata": {},
   "outputs": [
    {
     "data": {
      "text/plain": [
       "(array([ 2754.,  5471.,  8442., 11048., 13955., 16508., 13959., 11066.,\n",
       "         8486.,  5574.,  2737.]),\n",
       " array([ 2.        ,  2.90909091,  3.81818182,  4.72727273,  5.63636364,\n",
       "         6.54545455,  7.45454545,  8.36363636,  9.27272727, 10.18181818,\n",
       "        11.09090909, 12.        ]),\n",
       " <BarContainer object of 11 artists>)"
      ]
     },
     "execution_count": 67,
     "metadata": {},
     "output_type": "execute_result"
    },
    {
     "data": {
      "image/png": "[encoded data removed]",
      "text/plain": [
       "<Figure size 640x480 with 1 Axes>"
      ]
     },
     "metadata": {},
     "output_type": "display_data"
    }
   ],
   "source": [
    "plt.hist(a, bins=11)"
   ]
  },
  {
   "cell_type": "code",
   "execution_count": 68,
   "id": "33095a81-857c-43cd-96f0-c84721ed1de3",
   "metadata": {},
   "outputs": [
    {
     "data": {
      "text/plain": [
       "array(['Zappa', 'Zappa', 'Zappa', 'Zappa', 'testa', 'testa', 'testa',\n",
       "       'Zappa', 'Zappa', 'testa', 'Zappa', 'Zappa', 'testa', 'Zappa',\n",
       "       'testa', 'testa', 'testa', 'testa', 'testa', 'testa'], dtype='<U5')"
      ]
     },
     "execution_count": 68,
     "metadata": {},
     "output_type": "execute_result"
    }
   ],
   "source": [
    "coin=np.random.choice([\"testa\",\"Zappa\"],20)\n",
    "coin"
   ]
  },
  {
   "cell_type": "code",
   "execution_count": 70,
   "id": "54acb9e3-c07f-48c7-b30d-e4ed4d1a6745",
   "metadata": {},
   "outputs": [
    {
     "data": {
      "text/plain": [
       "array([['testa', 'Zappa', 'Zappa', 'Zappa', 'testa', 'Zappa', 'testa',\n",
       "        'Zappa', 'Zappa', 'Zappa', 'testa', 'Zappa', 'testa', 'Zappa',\n",
       "        'testa', 'Zappa', 'testa', 'Zappa', 'testa', 'testa'],\n",
       "       ['testa', 'testa', 'testa', 'testa', 'Zappa', 'Zappa', 'Zappa',\n",
       "        'testa', 'testa', 'Zappa', 'testa', 'testa', 'testa', 'Zappa',\n",
       "        'Zappa', 'testa', 'testa', 'testa', 'testa', 'testa'],\n",
       "       ['testa', 'Zappa', 'Zappa', 'testa', 'testa', 'testa', 'testa',\n",
       "        'Zappa', 'testa', 'Zappa', 'testa', 'Zappa', 'testa', 'Zappa',\n",
       "        'testa', 'testa', 'Zappa', 'Zappa', 'Zappa', 'testa'],\n",
       "       ['testa', 'Zappa', 'testa', 'Zappa', 'testa', 'testa', 'Zappa',\n",
       "        'Zappa', 'testa', 'Zappa', 'Zappa', 'Zappa', 'testa', 'Zappa',\n",
       "        'Zappa', 'testa', 'Zappa', 'Zappa', 'Zappa', 'testa'],\n",
       "       ['testa', 'testa', 'Zappa', 'Zappa', 'Zappa', 'Zappa', 'Zappa',\n",
       "        'Zappa', 'Zappa', 'testa', 'Zappa', 'testa', 'Zappa', 'testa',\n",
       "        'Zappa', 'testa', 'Zappa', 'Zappa', 'Zappa', 'Zappa'],\n",
       "       ['testa', 'testa', 'testa', 'Zappa', 'Zappa', 'testa', 'testa',\n",
       "        'testa', 'testa', 'Zappa', 'testa', 'testa', 'Zappa', 'Zappa',\n",
       "        'testa', 'Zappa', 'Zappa', 'Zappa', 'testa', 'testa']],\n",
       "      dtype='<U5')"
      ]
     },
     "execution_count": 70,
     "metadata": {},
     "output_type": "execute_result"
    }
   ],
   "source": [
    "np.random.choice([\"testa\",\"Zappa\"],(6,20))"
   ]
  },
  {
   "cell_type": "code",
   "execution_count": 73,
   "id": "1c25ec63-11ba-445b-b871-4b0af40fc723",
   "metadata": {},
   "outputs": [
    {
     "data": {
      "text/plain": [
       "array(['testa', 'Zappa', 'testa', 'testa', 'testa', 'testa', 'testa',\n",
       "       'Zappa', 'testa', 'testa', 'testa', 'testa', 'testa', 'Zappa',\n",
       "       'Zappa', 'testa', 'Zappa', 'testa', 'testa', 'Zappa'], dtype='<U5')"
      ]
     },
     "execution_count": 73,
     "metadata": {},
     "output_type": "execute_result"
    }
   ],
   "source": [
    "np.random.choice([\"testa\",\"Zappa\"],20, p=(0.6,0.4))"
   ]
  },
  {
   "cell_type": "code",
   "execution_count": null,
   "id": "e19c61c6-f45b-44f8-a00f-78545c2ec9dd",
   "metadata": {},
   "outputs": [],
   "source": []
  }
 ],
 "metadata": {
  "kernelspec": {
   "display_name": "Python 3 (ipykernel)",
   "language": "python",
   "name": "python3"
  },
  "language_info": {
   "codemirror_mode": {
    "name": "ipython",
    "version": 3
   },
   "file_extension": ".py",
   "mimetype": "text/x-python",
   "name": "python",
   "nbconvert_exporter": "python",
   "pygments_lexer": "ipython3",
   "version": "3.13.5"
  }
 },
 "nbformat": 4,
 "nbformat_minor": 5
}
