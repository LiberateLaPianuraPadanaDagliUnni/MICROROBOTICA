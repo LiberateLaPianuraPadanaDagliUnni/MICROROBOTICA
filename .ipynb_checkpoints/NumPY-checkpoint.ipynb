{
 "cells": [
  {
   "cell_type": "markdown",
   "id": "0a47386c-4359-4dde-8053-6f3188ea735b",
   "metadata": {},
   "source": [
    "# NUMPY\n",
    "\n",
    "* numPY è importante perchè ci permette di scrivere codice py con prestazioni simili/uguali a c.;\n",
    "* tutte le librerie che useremo saranno sviluppate con numpy;\n",
    "* tutte le librerie nate per l'AI sono ispirate a numpy (es: pyTorch->chatGPT, JAX->Google, MLX->Apple, ...)\n",
    "* numpy crea codice che gira solo sulla CPU quindi ne sono state create altre che possono girare su schede grafiche\n"
   ]
  },
  {
   "cell_type": "code",
   "execution_count": 22,
   "id": "ed03a602-ab45-4edd-aa88-8c0dda78c12f",
   "metadata": {},
   "outputs": [],
   "source": [
    "import numpy as np"
   ]
  },
  {
   "cell_type": "markdown",
   "id": "72584ef4-3475-4999-9be1-2c2e1c042e17",
   "metadata": {},
   "source": [
    "# Gli array numPY (`ndarray`)\n",
    "\n",
    "In NumPY abbiamo nuovamente gli array molto simili agli array visti in c."
   ]
  },
  {
   "cell_type": "code",
   "execution_count": 23,
   "id": "2635b9f7-522f-4ebc-a66e-b473eeb27442",
   "metadata": {},
   "outputs": [
    {
     "data": {
      "text/plain": [
       "array([0, 0, 0, 0, 0], dtype=int32)"
      ]
     },
     "execution_count": 23,
     "metadata": {},
     "output_type": "execute_result"
    }
   ],
   "source": [
    "#array di interi\n",
    "array_int=np.zeros(5, dtype=np.int32)\n",
    "array_int"
   ]
  },
  {
   "cell_type": "code",
   "execution_count": 24,
   "id": "0dfa17df-40c3-40cc-a0a2-3ab37eed109f",
   "metadata": {},
   "outputs": [
    {
     "data": {
      "text/plain": [
       "array([0., 0., 0., 0., 0.])"
      ]
     },
     "execution_count": 24,
     "metadata": {},
     "output_type": "execute_result"
    }
   ],
   "source": [
    "#array di reali\n",
    "array_float=np.zeros(5, dtype=np.float64)\n",
    "array_float"
   ]
  },
  {
   "cell_type": "code",
   "execution_count": 25,
   "id": "b40dcb35-dab9-45cb-be8d-7a8c0f24ad9b",
   "metadata": {},
   "outputs": [
    {
     "data": {
      "text/plain": [
       "array([0.+0.j, 0.+0.j, 0.+0.j, 0.+0.j, 0.+0.j])"
      ]
     },
     "execution_count": 25,
     "metadata": {},
     "output_type": "execute_result"
    }
   ],
   "source": [
    "#array di n complessi\n",
    "array_complex=np.zeros(5, dtype=np.complex128)\n",
    "array_complex"
   ]
  },
  {
   "cell_type": "code",
   "execution_count": 26,
   "id": "b7c5cf09-f295-45ae-8088-9ad4b0f2da82",
   "metadata": {},
   "outputs": [
    {
     "data": {
      "text/plain": [
       "dtype('float64')"
      ]
     },
     "execution_count": 26,
     "metadata": {},
     "output_type": "execute_result"
    }
   ],
   "source": [
    "#print tipo\n",
    "array_float.dtype"
   ]
  },
  {
   "cell_type": "code",
   "execution_count": 37,
   "id": "3b844c45-66ec-475c-a2e9-3fff1e13766c",
   "metadata": {},
   "outputs": [
    {
     "data": {
      "text/plain": [
       "array([[[0., 0., 0., 0., 0.],\n",
       "        [0., 0., 0., 0., 0.],\n",
       "        [0., 0., 0., 0., 0.],\n",
       "        [0., 0., 0., 0., 0.],\n",
       "        [0., 0., 0., 0., 0.],\n",
       "        [0., 0., 0., 0., 0.],\n",
       "        [0., 0., 0., 0., 0.]],\n",
       "\n",
       "       [[0., 0., 0., 0., 0.],\n",
       "        [0., 0., 0., 0., 0.],\n",
       "        [0., 0., 0., 0., 0.],\n",
       "        [0., 0., 0., 0., 0.],\n",
       "        [0., 0., 0., 0., 0.],\n",
       "        [0., 0., 0., 0., 0.],\n",
       "        [0., 0., 0., 0., 0.]]])"
      ]
     },
     "execution_count": 37,
     "metadata": {},
     "output_type": "execute_result"
    }
   ],
   "source": [
    "#array di matrice di reali\n",
    "#axis 0=righe; axis 1=colonne \n",
    "matrix_float=np.zeros((2, 7, 5),dtype=np.float64)\n",
    "matrix_float"
   ]
  },
  {
   "cell_type": "code",
   "execution_count": 39,
   "id": "b91f3fe9-900c-47aa-9d9a-87a33cdd7ff1",
   "metadata": {},
   "outputs": [
    {
     "name": "stdout",
     "output_type": "stream",
     "text": [
      "La matrice occupa: 560 bytes di memoria.\n",
      "La matrice è di tipo: float64.\n",
      "La matrice ha dimensioni: (2, 7, 5).\n"
     ]
    }
   ],
   "source": [
    "print(f\"La matrice occupa: {matrix_float.nbytes} bytes di memoria.\")\n",
    "print(f\"La matrice è di tipo: {matrix_float.dtype}.\")\n",
    "print(f\"La matrice ha dimensioni: {matrix_float.shape}.\")"
   ]
  },
  {
   "cell_type": "code",
   "execution_count": 43,
   "id": "a332e084-e94e-4251-a8f4-e2036d6d3da8",
   "metadata": {},
   "outputs": [
    {
     "data": {
      "text/plain": [
       "array([1, 1, 1, 1, 1], dtype=int32)"
      ]
     },
     "execution_count": 43,
     "metadata": {},
     "output_type": "execute_result"
    }
   ],
   "source": [
    "array_int_new=array_int+1      #broadcast/broadcasting\n",
    "array_int_new"
   ]
  },
  {
   "cell_type": "code",
   "execution_count": 46,
   "id": "1274ace5-381e-4ce1-a424-ef2d08656354",
   "metadata": {},
   "outputs": [
    {
     "data": {
      "text/plain": [
       "array([ 3., -3.])"
      ]
     },
     "execution_count": 46,
     "metadata": {},
     "output_type": "execute_result"
    }
   ],
   "source": [
    "v1=np.array([1.,2.])\n",
    "v2=np.array([2.,-5.])\n",
    "v1+v2"
   ]
  },
  {
   "cell_type": "markdown",
   "id": "fa92ea4a-b149-4c84-b4db-b5fc4af4c61a",
   "metadata": {},
   "source": [
    "# Uniform()\n",
    "\n",
    "`np.random.uniform(a,b,shape)` Genera un array di forma `shape` con valori pseudocasuali compresi tra `a` e `b`."
   ]
  },
  {
   "cell_type": "code",
   "execution_count": 54,
   "id": "a3b94ad3-0d6b-400f-a38a-bb824f50c2c2",
   "metadata": {},
   "outputs": [
    {
     "data": {
      "text/plain": [
       "array([0.54246004, 0.81148688, 0.017752  , ..., 0.20390204, 0.85542638,\n",
       "       0.70197568])"
      ]
     },
     "execution_count": 54,
     "metadata": {},
     "output_type": "execute_result"
    }
   ],
   "source": [
    "array_random=np.random.uniform(0,1.,(100000000))\n",
    "array_random"
   ]
  },
  {
   "cell_type": "code",
   "execution_count": 55,
   "id": "694f9dfd-1238-4377-afae-80a99debd7b1",
   "metadata": {},
   "outputs": [
    {
     "data": {
      "text/plain": [
       "array([0.72605017, 0.26306335, 0.53666737, ..., 0.62692691, 0.53310426,\n",
       "       0.66308981])"
      ]
     },
     "execution_count": 55,
     "metadata": {},
     "output_type": "execute_result"
    }
   ],
   "source": [
    "array_random2=np.random.uniform(0,1.,(100000000))\n",
    "array_random2"
   ]
  },
  {
   "cell_type": "code",
   "execution_count": 56,
   "id": "b34af685-3a26-4bb1-8deb-13a6d7689d18",
   "metadata": {},
   "outputs": [
    {
     "data": {
      "text/plain": [
       "array([1.2685102 , 1.07455023, 0.55441937, ..., 0.83082894, 1.38853064,\n",
       "       1.3650655 ])"
      ]
     },
     "execution_count": 56,
     "metadata": {},
     "output_type": "execute_result"
    }
   ],
   "source": [
    "array_random+array_random2"
   ]
  },
  {
   "cell_type": "code",
   "execution_count": null,
   "id": "d01947f5-c4da-4ced-9187-ef88b7a41b70",
   "metadata": {},
   "outputs": [],
   "source": []
  }
 ],
 "metadata": {
  "kernelspec": {
   "display_name": "Python 3 (ipykernel)",
   "language": "python",
   "name": "python3"
  },
  "language_info": {
   "codemirror_mode": {
    "name": "ipython",
    "version": 3
   },
   "file_extension": ".py",
   "mimetype": "text/x-python",
   "name": "python",
   "nbconvert_exporter": "python",
   "pygments_lexer": "ipython3",
   "version": "3.13.5"
  }
 },
 "nbformat": 4,
 "nbformat_minor": 5
}
